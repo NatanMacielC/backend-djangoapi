{
 "cells": [
  {
   "cell_type": "code",
   "execution_count": 1,
   "id": "657a8484",
   "metadata": {},
   "outputs": [],
   "source": [
    "import xlrd\n",
    "xlrd.xlsx.ensure_elementtree_imported(False, None)\n",
    "xlrd.xlsx.Element_has_iter = True"
   ]
  },
  {
   "cell_type": "code",
   "execution_count": 2,
   "id": "64f07e1f",
   "metadata": {
    "scrolled": true
   },
   "outputs": [
    {
     "name": "stdout",
     "output_type": "stream",
     "text": [
      " O volume na unidade C ‚ OSDisk\n",
      " O N£mero de S‚rie do Volume ‚ DEEE-B146\n",
      "\n",
      " Pasta de C:\\Users\\limaciel\\workspace\\Agriholmes\\calendario\n",
      "\n",
      "24/08/2021  20:15    <DIR>          .\n"
     ]
    }
   ],
   "source": [
    "ls calendario"
   ]
  },
  {
   "cell_type": "code",
   "execution_count": 3,
   "id": "dce0904d",
   "metadata": {},
   "outputs": [
    {
     "name": "stdout",
     "output_type": "stream",
     "text": [
      "24/08/2021  20:15    <DIR>          ..\n",
      "16/08/2021  15:07                 0 __init__.py\n",
      "24/08/2021  20:31    <DIR>          __pycache__\n",
      "24/08/2021  20:31               293 admin.py\n",
      "20/08/2021  10:47               160 apps.py\n",
      "24/08/2021  20:15             9.405 feriado.xlsx\n",
      "24/08/2021  20:31    <DIR>          migrations\n",
      "24/08/2021  20:31             2.585 models.py\n",
      "20/08/2021  18:24               380 serializers.py\n",
      "16/08/2021  15:07                63 tests.py\n",
      "23/08/2021  13:45               279 urls.py\n",
      "24/08/2021  14:28                 0 views.py\n"
     ]
    }
   ],
   "source": [
    "filename = 'calendario/feriado.xlsx'"
   ]
  },
  {
   "cell_type": "code",
   "execution_count": 4,
   "id": "acda3b68",
   "metadata": {},
   "outputs": [
    {
     "name": "stdout",
     "output_type": "stream",
     "text": [
      "23/08/2021  11:18               489 viewsets.py\n",
      "              10 arquivo(s)         13.654 bytes\n",
      "               4 pasta(s)   294.664.011.776 bytes dispon¡veis\n"
     ]
    }
   ],
   "source": [
    "workbook = xlrd.open_workbook(filename)\n",
    "sheet = workbook.sheet_by_index(0)"
   ]
  },
  {
   "cell_type": "code",
   "execution_count": 5,
   "id": "a81eb151",
   "metadata": {},
   "outputs": [],
   "source": [
    "fields = ('Ano', 'Mes', 'Dia', 'Descricao')"
   ]
  },
  {
   "cell_type": "code",
   "execution_count": 6,
   "id": "4fb801dc",
   "metadata": {},
   "outputs": [
    {
     "name": "stdout",
     "output_type": "stream",
     "text": [
      "1.0\n",
      "2.0\n",
      "3.0\n"
     ]
    }
   ],
   "source": [
    "for row in range(1, sheet.nrows):\n",
    "    print(sheet.row(row)[4].value)"
   ]
  },
  {
   "cell_type": "code",
   "execution_count": 7,
   "id": "c64ebb4f",
   "metadata": {},
   "outputs": [],
   "source": [
    "anos = []\n",
    "for row in range(1, sheet.nrows):\n",
    "    ano = sheet.row(row)[0].value\n",
    "    anos.append(ano)"
   ]
  },
  {
   "cell_type": "code",
   "execution_count": 8,
   "id": "451a9574",
   "metadata": {},
   "outputs": [
    {
     "data": {
      "text/plain": [
       "[2021.0, 2021.0, 2021.0]"
      ]
     },
     "execution_count": 8,
     "metadata": {},
     "output_type": "execute_result"
    }
   ],
   "source": [
    "anos"
   ]
  },
  {
   "cell_type": "code",
   "execution_count": 9,
   "id": "3f2a282e",
   "metadata": {},
   "outputs": [
    {
     "data": {
      "text/plain": [
       "{2021.0}"
      ]
     },
     "execution_count": 9,
     "metadata": {},
     "output_type": "execute_result"
    }
   ],
   "source": [
    "set(anos)"
   ]
  },
  {
   "cell_type": "code",
   "execution_count": 10,
   "id": "46687c00",
   "metadata": {},
   "outputs": [],
   "source": [
    "year = []\n",
    "for ano in anos:\n",
    "    a = Calendarioferiado(ano=anos)\n",
    "    year.append(a)"
   ]
  },
  {
   "cell_type": "code",
   "execution_count": 11,
   "id": "c3217a15",
   "metadata": {},
   "outputs": [
    {
     "data": {
      "text/plain": [
       "[<Calendarioferiado: Calendarioferiado object (None)>,\n",
       " <Calendarioferiado: Calendarioferiado object (None)>,\n",
       " <Calendarioferiado: Calendarioferiado object (None)>]"
      ]
     },
     "execution_count": 11,
     "metadata": {},
     "output_type": "execute_result"
    }
   ],
   "source": [
    "year"
   ]
  },
  {
   "cell_type": "code",
   "execution_count": 15,
   "id": "77469ef0",
   "metadata": {},
   "outputs": [],
   "source": [
    "aux = []\n",
    "for row in range(1, sheet.nrows):\n",
    "    ano = sheet.row(row)[0].value\n",
    "    mes = sheet.row(row)[1].value\n",
    "    dia = sheet.row(row)[2].value\n",
    "    descricao = sheet.row(row)[3].value\n",
    "    \n",
    "    feriado = dict(\n",
    "    ano=ano,\n",
    "    mes=mes,\n",
    "    dia=dia,\n",
    "    descricao=descricao,\n",
    "    )\n",
    "    \n",
    "    obj = CalendarioFeriadoImport(**feriado)\n",
    "    \n",
    "    aux.append(obj)\n",
    "        \n"
   ]
  },
  {
   "cell_type": "code",
   "execution_count": 16,
   "id": "b43cb9eb",
   "metadata": {},
   "outputs": [
    {
     "data": {
      "text/plain": [
       "[<CalendarioFeriadoImport: CalendarioFeriadoImport object (None)>,\n",
       " <CalendarioFeriadoImport: CalendarioFeriadoImport object (None)>,\n",
       " <CalendarioFeriadoImport: CalendarioFeriadoImport object (None)>]"
      ]
     },
     "execution_count": 16,
     "metadata": {},
     "output_type": "execute_result"
    }
   ],
   "source": [
    "CalendarioFeriadoImport.objects.bulk_create(aux)"
   ]
  },
  {
   "cell_type": "code",
   "execution_count": null,
   "id": "6fa200b3",
   "metadata": {},
   "outputs": [],
   "source": []
  },
  {
   "cell_type": "code",
   "execution_count": null,
   "id": "2f53f19f",
   "metadata": {},
   "outputs": [],
   "source": []
  },
  {
   "cell_type": "code",
   "execution_count": null,
   "id": "67ea4e15",
   "metadata": {},
   "outputs": [],
   "source": []
  }
 ],
 "metadata": {
  "kernelspec": {
   "display_name": "Django Shell-Plus",
   "language": "python",
   "name": "django_extensions"
  },
  "language_info": {
   "codemirror_mode": {
    "name": "ipython",
    "version": 3
   },
   "file_extension": ".py",
   "mimetype": "text/x-python",
   "name": "python",
   "nbconvert_exporter": "python",
   "pygments_lexer": "ipython3",
   "version": "3.9.6"
  }
 },
 "nbformat": 4,
 "nbformat_minor": 5
}
