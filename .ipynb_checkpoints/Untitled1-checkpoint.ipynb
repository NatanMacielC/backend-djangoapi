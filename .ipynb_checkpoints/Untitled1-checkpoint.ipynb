{
 "cells": [
  {
   "cell_type": "code",
   "execution_count": 1,
   "id": "657a8484",
   "metadata": {},
   "outputs": [],
   "source": [
    "import xlrd\n",
    "xlrd.xlsx.ensure_elementtree_imported(False, None)\n",
    "xlrd.xlsx.Element_has_iter = True"
   ]
  },
  {
   "cell_type": "code",
   "execution_count": 2,
   "id": "64f07e1f",
   "metadata": {},
   "outputs": [
    {
     "name": "stdout",
     "output_type": "stream",
     "text": [
      " O volume na unidade C ‚ OSDisk\n",
      " O N£mero de S‚rie do Volume ‚ DEEE-B146\n",
      "\n",
      " Pasta de C:\\Users\\limaciel\\workspace\\Agriholmes\\calendario\n",
      "\n",
      "24/08/2021  19:06    <DIR>          .\n",
      "24/08/2021  19:06    <DIR>          ..\n",
      "16/08/2021  15:07                 0 __init__.py\n",
      "24/08/2021  19:37    <DIR>          __pycache__\n"
     ]
    }
   ],
   "source": [
    "ls calendario"
   ]
  },
  {
   "cell_type": "code",
   "execution_count": 17,
   "id": "dce0904d",
   "metadata": {},
   "outputs": [],
   "source": [
    "filename = 'calendario/feriado.xlsx'"
   ]
  },
  {
   "cell_type": "code",
   "execution_count": 19,
   "id": "acda3b68",
   "metadata": {},
   "outputs": [],
   "source": [
    "workbook = xlrd.open_workbook(filename)\n",
    "sheet = workbook.sheet_by_index(0)"
   ]
  },
  {
   "cell_type": "code",
   "execution_count": 20,
   "id": "a81eb151",
   "metadata": {},
   "outputs": [],
   "source": [
    "fields = ('Ano', 'Mes', 'Dia', 'Descricao')"
   ]
  },
  {
   "cell_type": "code",
   "execution_count": 32,
   "id": "4fb801dc",
   "metadata": {},
   "outputs": [
    {
     "ename": "IndexError",
     "evalue": "list index out of range",
     "output_type": "error",
     "traceback": [
      "\u001b[1;31m---------------------------------------------------------------------------\u001b[0m",
      "\u001b[1;31mIndexError\u001b[0m                                Traceback (most recent call last)",
      "\u001b[1;32m~\\AppData\\Local\\Temp/ipykernel_11560/1703479107.py\u001b[0m in \u001b[0;36m<module>\u001b[1;34m\u001b[0m\n\u001b[0;32m      1\u001b[0m \u001b[1;32mfor\u001b[0m \u001b[0mrow\u001b[0m \u001b[1;32min\u001b[0m \u001b[0mrange\u001b[0m\u001b[1;33m(\u001b[0m\u001b[1;36m1\u001b[0m\u001b[1;33m,\u001b[0m \u001b[0msheet\u001b[0m\u001b[1;33m.\u001b[0m\u001b[0mnrows\u001b[0m\u001b[1;33m)\u001b[0m\u001b[1;33m:\u001b[0m\u001b[1;33m\u001b[0m\u001b[1;33m\u001b[0m\u001b[0m\n\u001b[1;32m----> 2\u001b[1;33m     \u001b[0mprint\u001b[0m\u001b[1;33m(\u001b[0m\u001b[0msheet\u001b[0m\u001b[1;33m.\u001b[0m\u001b[0mrow\u001b[0m\u001b[1;33m(\u001b[0m\u001b[0mrow\u001b[0m\u001b[1;33m)\u001b[0m\u001b[1;33m[\u001b[0m\u001b[1;36m4\u001b[0m\u001b[1;33m]\u001b[0m\u001b[1;33m.\u001b[0m\u001b[0mvalue\u001b[0m\u001b[1;33m)\u001b[0m\u001b[1;33m\u001b[0m\u001b[1;33m\u001b[0m\u001b[0m\n\u001b[0m",
      "\u001b[1;31mIndexError\u001b[0m: list index out of range"
     ]
    }
   ],
   "source": [
    "for row in range(1, sheet.nrows):\n",
    "    print(sheet.row(row)[4].value)"
   ]
  },
  {
   "cell_type": "code",
   "execution_count": 22,
   "id": "c64ebb4f",
   "metadata": {},
   "outputs": [],
   "source": [
    "anos = []\n",
    "for row in range(1, sheet.nrows):\n",
    "    ano = sheet.row(row)[0].value\n",
    "    anos.append(ano)"
   ]
  },
  {
   "cell_type": "code",
   "execution_count": 23,
   "id": "451a9574",
   "metadata": {},
   "outputs": [
    {
     "data": {
      "text/plain": [
       "[2021.0, 2021.0, 2021.0]"
      ]
     },
     "execution_count": 23,
     "metadata": {},
     "output_type": "execute_result"
    }
   ],
   "source": [
    "anos"
   ]
  },
  {
   "cell_type": "code",
   "execution_count": 24,
   "id": "3f2a282e",
   "metadata": {},
   "outputs": [
    {
     "data": {
      "text/plain": [
       "{2021.0}"
      ]
     },
     "execution_count": 24,
     "metadata": {},
     "output_type": "execute_result"
    }
   ],
   "source": [
    "set(anos)"
   ]
  },
  {
   "cell_type": "code",
   "execution_count": 25,
   "id": "46687c00",
   "metadata": {},
   "outputs": [],
   "source": [
    "year = []\n",
    "for ano in anos:\n",
    "    a = Calendarioferiado(ano=anos)\n",
    "    year.append(a)"
   ]
  },
  {
   "cell_type": "code",
   "execution_count": 26,
   "id": "c3217a15",
   "metadata": {},
   "outputs": [
    {
     "data": {
      "text/plain": [
       "[<Calendarioferiado: Calendarioferiado object (None)>,\n",
       " <Calendarioferiado: Calendarioferiado object (None)>,\n",
       " <Calendarioferiado: Calendarioferiado object (None)>]"
      ]
     },
     "execution_count": 26,
     "metadata": {},
     "output_type": "execute_result"
    }
   ],
   "source": [
    "year"
   ]
  },
  {
   "cell_type": "code",
   "execution_count": 27,
   "id": "77469ef0",
   "metadata": {},
   "outputs": [
    {
     "ename": "IndexError",
     "evalue": "list index out of range",
     "output_type": "error",
     "traceback": [
      "\u001b[1;31m---------------------------------------------------------------------------\u001b[0m",
      "\u001b[1;31mIndexError\u001b[0m                                Traceback (most recent call last)",
      "\u001b[1;32m~\\AppData\\Local\\Temp/ipykernel_11560/1183504102.py\u001b[0m in \u001b[0;36m<module>\u001b[1;34m\u001b[0m\n\u001b[0;32m      5\u001b[0m     \u001b[0mdia\u001b[0m \u001b[1;33m=\u001b[0m \u001b[0msheet\u001b[0m\u001b[1;33m.\u001b[0m\u001b[0mrow\u001b[0m\u001b[1;33m(\u001b[0m\u001b[0mrow\u001b[0m\u001b[1;33m)\u001b[0m\u001b[1;33m[\u001b[0m\u001b[1;36m2\u001b[0m\u001b[1;33m]\u001b[0m\u001b[1;33m.\u001b[0m\u001b[0mvalue\u001b[0m\u001b[1;33m\u001b[0m\u001b[1;33m\u001b[0m\u001b[0m\n\u001b[0;32m      6\u001b[0m     \u001b[0mdescricao\u001b[0m \u001b[1;33m=\u001b[0m \u001b[0msheet\u001b[0m\u001b[1;33m.\u001b[0m\u001b[0mrow\u001b[0m\u001b[1;33m(\u001b[0m\u001b[0mrow\u001b[0m\u001b[1;33m)\u001b[0m\u001b[1;33m[\u001b[0m\u001b[1;36m3\u001b[0m\u001b[1;33m]\u001b[0m\u001b[1;33m.\u001b[0m\u001b[0mvalue\u001b[0m\u001b[1;33m\u001b[0m\u001b[1;33m\u001b[0m\u001b[0m\n\u001b[1;32m----> 7\u001b[1;33m     \u001b[0mcalendarioid\u001b[0m \u001b[1;33m=\u001b[0m \u001b[0msheet\u001b[0m\u001b[1;33m.\u001b[0m\u001b[0mrow\u001b[0m\u001b[1;33m(\u001b[0m\u001b[0mrow\u001b[0m\u001b[1;33m)\u001b[0m\u001b[1;33m[\u001b[0m\u001b[1;36m4\u001b[0m\u001b[1;33m]\u001b[0m\u001b[1;33m.\u001b[0m\u001b[0mvalue\u001b[0m\u001b[1;33m\u001b[0m\u001b[1;33m\u001b[0m\u001b[0m\n\u001b[0m\u001b[0;32m      8\u001b[0m \u001b[1;33m\u001b[0m\u001b[0m\n\u001b[0;32m      9\u001b[0m     feriado = dict(\n",
      "\u001b[1;31mIndexError\u001b[0m: list index out of range"
     ]
    }
   ],
   "source": [
    "aux = []\n",
    "for row in range(1, sheet.nrows):\n",
    "    ano = sheet.row(row)[0].value\n",
    "    mes = sheet.row(row)[1].value\n",
    "    dia = sheet.row(row)[2].value\n",
    "    descricao = sheet.row(row)[3].value\n",
    "    calendarioid = sheet.row(row)[4].value\n",
    "    \n",
    "    feriado = dict(\n",
    "    ano=ano,\n",
    "    mes=mes,\n",
    "    dia=dia,\n",
    "    descricao=descricao,\n",
    "    calendarioid=calendarioid)\n",
    "    \n",
    "    obj = Calendarioferiado(**feriado)\n",
    "    \n",
    "    aux.append(obj)\n",
    "        \n"
   ]
  },
  {
   "cell_type": "code",
   "execution_count": null,
   "id": "b43cb9eb",
   "metadata": {},
   "outputs": [],
   "source": [
    "Calendarioferiado.objects.bulk_create(aux)"
   ]
  },
  {
   "cell_type": "code",
   "execution_count": null,
   "id": "6fa200b3",
   "metadata": {},
   "outputs": [],
   "source": []
  },
  {
   "cell_type": "code",
   "execution_count": null,
   "id": "2f53f19f",
   "metadata": {},
   "outputs": [],
   "source": []
  },
  {
   "cell_type": "code",
   "execution_count": null,
   "id": "67ea4e15",
   "metadata": {},
   "outputs": [],
   "source": []
  }
 ],
 "metadata": {
  "kernelspec": {
   "display_name": "Django Shell-Plus",
   "language": "python",
   "name": "django_extensions"
  },
  "language_info": {
   "codemirror_mode": {
    "name": "ipython",
    "version": 3
   },
   "file_extension": ".py",
   "mimetype": "text/x-python",
   "name": "python",
   "nbconvert_exporter": "python",
   "pygments_lexer": "ipython3",
   "version": "3.9.6"
  }
 },
 "nbformat": 4,
 "nbformat_minor": 5
}
